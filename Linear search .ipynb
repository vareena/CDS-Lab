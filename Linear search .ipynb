{
 "cells": [
  {
   "cell_type": "code",
   "execution_count": null,
   "id": "3caf4ef7-d722-4b57-80b4-61deb3d8f59e",
   "metadata": {},
   "outputs": [],
   "source": [
    "def linearSearch(n, num):\n",
    "    for search in num:\n",
    "    \n",
    "        if x == search:\n",
    "            return search\n",
    "    else:\n",
    "        return -1\n",
    "\n",
    "num = [12,46,47,48,50,66,68,70]\n",
    "x = int(input(\"Enter value to be searched :\"))\n",
    "result = linearSearch(x, num)\n",
    "if result != -1:\n",
    "    print(\"the number is present\")\n",
    "else:\n",
    "    print(\"the number is not found\")\n",
    "\n"
   ]
  },
  {
   "cell_type": "code",
   "execution_count": null,
   "id": "078b5ece-0798-4d65-9a62-c353ccfccff1",
   "metadata": {},
   "outputs": [],
   "source": []
  }
 ],
 "metadata": {
  "kernelspec": {
   "display_name": "Python 3 (ipykernel)",
   "language": "python",
   "name": "python3"
  },
  "language_info": {
   "codemirror_mode": {
    "name": "ipython",
    "version": 3
   },
   "file_extension": ".py",
   "mimetype": "text/x-python",
   "name": "python",
   "nbconvert_exporter": "python",
   "pygments_lexer": "ipython3",
   "version": "3.12.4"
  }
 },
 "nbformat": 4,
 "nbformat_minor": 5
}
